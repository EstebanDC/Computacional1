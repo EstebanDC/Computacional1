{
 "cells": [
  {
   "cell_type": "code",
   "execution_count": 1,
   "metadata": {
    "collapsed": true
   },
   "outputs": [],
   "source": [
    "import pandas as pd\n",
    "import numpy as np\n",
    "import matplotlib as plt\n",
    "from pylab import *"
   ]
  },
  {
   "cell_type": "code",
   "execution_count": 2,
   "metadata": {
    "collapsed": false
   },
   "outputs": [],
   "source": [
    "df=pd.read_csv(\"/home/estebandelgado/Fisica_Computacional/Actividad5/Boston2.csv\",parse_dates=['Date Time'],header=int(0))"
   ]
  },
  {
   "cell_type": "code",
   "execution_count": 3,
   "metadata": {
    "collapsed": false
   },
   "outputs": [
    {
     "data": {
      "text/plain": [
       "Index(['Date Time', ' Water Level', ' Sigma', ' I', ' L '], dtype='object')"
      ]
     },
     "execution_count": 3,
     "metadata": {},
     "output_type": "execute_result"
    }
   ],
   "source": [
    "df.columns"
   ]
  },
  {
   "cell_type": "code",
   "execution_count": 4,
   "metadata": {
    "collapsed": false
   },
   "outputs": [
    {
     "data": {
      "text/html": [
       "<div>\n",
       "<table border=\"1\" class=\"dataframe\">\n",
       "  <thead>\n",
       "    <tr style=\"text-align: right;\">\n",
       "      <th></th>\n",
       "      <th>Date Time</th>\n",
       "      <th>Water Level</th>\n",
       "      <th>Sigma</th>\n",
       "      <th>I</th>\n",
       "      <th>L</th>\n",
       "    </tr>\n",
       "  </thead>\n",
       "  <tbody>\n",
       "    <tr>\n",
       "      <th>0</th>\n",
       "      <td>2016-03-01 00:00:00</td>\n",
       "      <td>1.383</td>\n",
       "      <td>0.009</td>\n",
       "      <td>0</td>\n",
       "      <td>0</td>\n",
       "    </tr>\n",
       "    <tr>\n",
       "      <th>1</th>\n",
       "      <td>2016-03-01 01:00:00</td>\n",
       "      <td>0.897</td>\n",
       "      <td>0.028</td>\n",
       "      <td>0</td>\n",
       "      <td>0</td>\n",
       "    </tr>\n",
       "    <tr>\n",
       "      <th>2</th>\n",
       "      <td>2016-03-01 02:00:00</td>\n",
       "      <td>0.511</td>\n",
       "      <td>0.011</td>\n",
       "      <td>0</td>\n",
       "      <td>0</td>\n",
       "    </tr>\n",
       "    <tr>\n",
       "      <th>3</th>\n",
       "      <td>2016-03-01 03:00:00</td>\n",
       "      <td>0.470</td>\n",
       "      <td>0.003</td>\n",
       "      <td>0</td>\n",
       "      <td>0</td>\n",
       "    </tr>\n",
       "    <tr>\n",
       "      <th>4</th>\n",
       "      <td>2016-03-01 04:00:00</td>\n",
       "      <td>0.721</td>\n",
       "      <td>0.005</td>\n",
       "      <td>0</td>\n",
       "      <td>0</td>\n",
       "    </tr>\n",
       "    <tr>\n",
       "      <th>5</th>\n",
       "      <td>2016-03-01 05:00:00</td>\n",
       "      <td>1.181</td>\n",
       "      <td>0.006</td>\n",
       "      <td>0</td>\n",
       "      <td>0</td>\n",
       "    </tr>\n",
       "    <tr>\n",
       "      <th>6</th>\n",
       "      <td>2016-03-01 06:00:00</td>\n",
       "      <td>1.756</td>\n",
       "      <td>0.009</td>\n",
       "      <td>0</td>\n",
       "      <td>0</td>\n",
       "    </tr>\n",
       "    <tr>\n",
       "      <th>7</th>\n",
       "      <td>2016-03-01 07:00:00</td>\n",
       "      <td>2.210</td>\n",
       "      <td>0.006</td>\n",
       "      <td>0</td>\n",
       "      <td>0</td>\n",
       "    </tr>\n",
       "    <tr>\n",
       "      <th>8</th>\n",
       "      <td>2016-03-01 08:00:00</td>\n",
       "      <td>2.620</td>\n",
       "      <td>0.005</td>\n",
       "      <td>0</td>\n",
       "      <td>0</td>\n",
       "    </tr>\n",
       "    <tr>\n",
       "      <th>9</th>\n",
       "      <td>2016-03-01 09:00:00</td>\n",
       "      <td>2.742</td>\n",
       "      <td>0.005</td>\n",
       "      <td>0</td>\n",
       "      <td>0</td>\n",
       "    </tr>\n",
       "  </tbody>\n",
       "</table>\n",
       "</div>"
      ],
      "text/plain": [
       "            Date Time   Water Level   Sigma   I   L \n",
       "0 2016-03-01 00:00:00         1.383   0.009   0    0\n",
       "1 2016-03-01 01:00:00         0.897   0.028   0    0\n",
       "2 2016-03-01 02:00:00         0.511   0.011   0    0\n",
       "3 2016-03-01 03:00:00         0.470   0.003   0    0\n",
       "4 2016-03-01 04:00:00         0.721   0.005   0    0\n",
       "5 2016-03-01 05:00:00         1.181   0.006   0    0\n",
       "6 2016-03-01 06:00:00         1.756   0.009   0    0\n",
       "7 2016-03-01 07:00:00         2.210   0.006   0    0\n",
       "8 2016-03-01 08:00:00         2.620   0.005   0    0\n",
       "9 2016-03-01 09:00:00         2.742   0.005   0    0"
      ]
     },
     "execution_count": 4,
     "metadata": {},
     "output_type": "execute_result"
    }
   ],
   "source": [
    "df.head(10)"
   ]
  },
  {
   "cell_type": "code",
   "execution_count": 5,
   "metadata": {
    "collapsed": true
   },
   "outputs": [],
   "source": [
    "df.columns=['Date Time','Water Level','Sigma','I','L']"
   ]
  },
  {
   "cell_type": "code",
   "execution_count": 6,
   "metadata": {
    "collapsed": false
   },
   "outputs": [
    {
     "data": {
      "text/plain": [
       "Date Time      0\n",
       "Water Level    0\n",
       "Sigma          0\n",
       "I              0\n",
       "L              0\n",
       "dtype: int64"
      ]
     },
     "execution_count": 6,
     "metadata": {},
     "output_type": "execute_result"
    }
   ],
   "source": [
    "df.apply(lambda x: sum(x.isnull()), axis=0)"
   ]
  },
  {
   "cell_type": "code",
   "execution_count": 11,
   "metadata": {
    "collapsed": false
   },
   "outputs": [
    {
     "data": {
      "image/png": "[encoded data removed]",
      "text/plain": [
       "<matplotlib.figure.Figure at 0x7feaf9265d68>"
      ]
     },
     "metadata": {},
     "output_type": "display_data"
    }
   ],
   "source": [
    "from scipy.fftpack import fft, fftfreq, fftshift\n",
    "# number of signal points\n",
    "N = 720\n",
    "# sample spacing\n",
    "T = 1\n",
    "x = df['Date Time']\n",
    "y = df['Water Level']\n",
    "yf = fft(y)\n",
    "xf = fftfreq(N, T)\n",
    "xf = fftshift(xf)\n",
    "yplot = fftshift(yf)\n",
    "import matplotlib.pyplot as plt\n",
    "plt.plot(xf, 1.0/N * np.abs(yplot))\n",
    "plt.xlim(-.01,.09)\n",
    "plt.grid()\n",
    "plt.ylabel('Amplitud (ft)')\n",
    "plt.xlabel('Frecuencia')\n",
    "plt.text(0.081, 0.7, '$M_2$')\n",
    "plt.text(0.083, 0.14, '$S_2$')\n",
    "plt.text(0.042, 0.04, '$K_1$')\n",
    "plt.text(0.037, 0.059, '$O_1$')\n",
    "plt.show()\n"
   ]
  },
  {
   "cell_type": "code",
   "execution_count": null,
   "metadata": {
    "collapsed": false
   },
   "outputs": [],
   "source": []
  },
  {
   "cell_type": "code",
   "execution_count": null,
   "metadata": {
    "collapsed": true
   },
   "outputs": [],
   "source": []
  }
 ],
 "metadata": {
  "anaconda-cloud": {},
  "kernelspec": {
   "display_name": "Python [conda root]",
   "language": "python",
   "name": "conda-root-py"
  },
  "language_info": {
   "codemirror_mode": {
    "name": "ipython",
    "version": 3
   },
   "file_extension": ".py",
   "mimetype": "text/x-python",
   "name": "python",
   "nbconvert_exporter": "python",
   "pygments_lexer": "ipython3",
   "version": "3.5.2"
  }
 },
 "nbformat": 4,
 "nbformat_minor": 1
}
